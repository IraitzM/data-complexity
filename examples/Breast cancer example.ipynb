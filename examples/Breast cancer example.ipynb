{
 "cells": [
  {
   "cell_type": "code",
   "execution_count": 3,
   "metadata": {},
   "outputs": [
    {
     "data": {
      "text/html": [
       "<div>\n",
       "<style scoped>\n",
       "    .dataframe tbody tr th:only-of-type {\n",
       "        vertical-align: middle;\n",
       "    }\n",
       "\n",
       "    .dataframe tbody tr th {\n",
       "        vertical-align: top;\n",
       "    }\n",
       "\n",
       "    .dataframe thead th {\n",
       "        text-align: right;\n",
       "    }\n",
       "</style>\n",
       "<table border=\"1\" class=\"dataframe\">\n",
       "  <thead>\n",
       "    <tr style=\"text-align: right;\">\n",
       "      <th></th>\n",
       "      <th>F1</th>\n",
       "      <th>F1v</th>\n",
       "      <th>F2</th>\n",
       "      <th>F3</th>\n",
       "      <th>F4</th>\n",
       "      <th>B1</th>\n",
       "      <th>B2</th>\n",
       "      <th>S1</th>\n",
       "      <th>S2</th>\n",
       "      <th>S3</th>\n",
       "      <th>S4</th>\n",
       "      <th>C1</th>\n",
       "      <th>C2</th>\n",
       "      <th>N1</th>\n",
       "      <th>N2</th>\n",
       "      <th>N3</th>\n",
       "      <th>N4</th>\n",
       "      <th>N5</th>\n",
       "      <th>N6</th>\n",
       "      <th>L1</th>\n",
       "    </tr>\n",
       "  </thead>\n",
       "  <tbody>\n",
       "    <tr>\n",
       "      <th>0</th>\n",
       "      <td>0.370253</td>\n",
       "      <td>0.06402</td>\n",
       "      <td>1.106883e-09</td>\n",
       "      <td>0.841359</td>\n",
       "      <td>0.0</td>\n",
       "      <td>0.047365</td>\n",
       "      <td>0.12196</td>\n",
       "      <td>0.290675</td>\n",
       "      <td>0.844673</td>\n",
       "      <td>0.356</td>\n",
       "      <td>0.002826</td>\n",
       "      <td>0.952635</td>\n",
       "      <td>0.12196</td>\n",
       "      <td>0.086116</td>\n",
       "      <td>0.229093</td>\n",
       "      <td>0.091388</td>\n",
       "      <td>0.488576</td>\n",
       "      <td>0.003515</td>\n",
       "      <td>0.912293</td>\n",
       "      <td>0.032313</td>\n",
       "    </tr>\n",
       "  </tbody>\n",
       "</table>\n",
       "</div>"
      ],
      "text/plain": [
       "         F1      F1v            F2        F3   F4        B1       B2  \\\n",
       "0  0.370253  0.06402  1.106883e-09  0.841359  0.0  0.047365  0.12196   \n",
       "\n",
       "         S1        S2     S3        S4        C1       C2        N1        N2  \\\n",
       "0  0.290675  0.844673  0.356  0.002826  0.952635  0.12196  0.086116  0.229093   \n",
       "\n",
       "         N3        N4        N5        N6        L1  \n",
       "0  0.091388  0.488576  0.003515  0.912293  0.032313  "
      ]
     },
     "execution_count": 3,
     "metadata": {},
     "output_type": "execute_result"
    }
   ],
   "source": [
    "from dcm import ComplexityProfile\n",
    "from sklearn.datasets import load_breast_cancer\n",
    "\n",
    "data = load_breast_cancer()\n",
    "X, y = load_breast_cancer(return_X_y=True)\n",
    "\n",
    "model = ComplexityProfile()\n",
    "model.fit(X, y)\n",
    "model.transform(return_type=\"df\")"
   ]
  }
 ],
 "metadata": {
  "kernelspec": {
   "display_name": ".venv",
   "language": "python",
   "name": "python3"
  },
  "language_info": {
   "codemirror_mode": {
    "name": "ipython",
    "version": 3
   },
   "file_extension": ".py",
   "mimetype": "text/x-python",
   "name": "python",
   "nbconvert_exporter": "python",
   "pygments_lexer": "ipython3",
   "version": "3.10.12"
  }
 },
 "nbformat": 4,
 "nbformat_minor": 2
}
